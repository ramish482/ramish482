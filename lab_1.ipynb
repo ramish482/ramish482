{
  "nbformat": 4,
  "nbformat_minor": 0,
  "metadata": {
    "colab": {
      "name": "lab 1",
      "provenance": [],
      "authorship_tag": "ABX9TyPGHAkvlhPnzcwThM3O3yh8",
      "include_colab_link": true
    },
    "kernelspec": {
      "name": "python3",
      "display_name": "Python 3"
    },
    "language_info": {
      "name": "python"
    }
  },
  "cells": [
    {
      "cell_type": "markdown",
      "metadata": {
        "id": "view-in-github",
        "colab_type": "text"
      },
      "source": [
        "<a href=\"https://colab.research.google.com/github/ramish482/ramish482/blob/main/lab_1.ipynb\" target=\"_parent\"><img src=\"https://colab.research.google.com/assets/colab-badge.svg\" alt=\"Open In Colab\"/></a>"
      ]
    },
    {
      "cell_type": "code",
      "execution_count": 1,
      "metadata": {
        "colab": {
          "base_uri": "https://localhost:8080/"
        },
        "id": "tMXHXfBiMYdY",
        "outputId": "532456d8-2bab-424d-f3a8-9d8fdf7bb9f7"
      },
      "outputs": [
        {
          "output_type": "stream",
          "name": "stdout",
          "text": [
            "the sum of 1.5 and 6.3 is 7.8\n"
          ]
        }
      ],
      "source": [
        "num1=1.5\n",
        "num2=6.3\n",
        "sum=num1+num2\n",
        "print('the sum of {0} and {1} is {2}'.format(num1,num2,sum))"
      ]
    },
    {
      "cell_type": "code",
      "source": [
        "num1=input('enter frist number:')\n",
        "num2=input('enter second number:')\n",
        "sum=float(num1)+float(num2)\n",
        "print('the sum of {0} and {1} is {2}'.format(num1,num2,sum))"
      ],
      "metadata": {
        "colab": {
          "base_uri": "https://localhost:8080/"
        },
        "id": "zHiAQXS_Ncj-",
        "outputId": "986ccf57-fc0e-46fb-bd06-6437547ad492"
      },
      "execution_count": 2,
      "outputs": [
        {
          "output_type": "stream",
          "name": "stdout",
          "text": [
            "enter frist number:1.5\n",
            "enter second number:6.3\n",
            "the sum of 1.5 and 6.3 is 7.8\n"
          ]
        }
      ]
    },
    {
      "cell_type": "code",
      "source": [
        "num=8\n",
        "num_sqrt=num**0.5\n",
        "print('the square root of %0.3f is %0.3f'%(num,num_sqrt))"
      ],
      "metadata": {
        "colab": {
          "base_uri": "https://localhost:8080/"
        },
        "id": "ltQ15ORDOhww",
        "outputId": "a14307fd-9c0f-4e8e-e97e-3045b7207f70"
      },
      "execution_count": 3,
      "outputs": [
        {
          "output_type": "stream",
          "name": "stdout",
          "text": [
            "the square root of 8.000 is 2.828\n"
          ]
        }
      ]
    },
    {
      "cell_type": "code",
      "source": [
        "import cmath\n",
        "num=1+2j\n",
        "num_sqrt=cmath.sqrt(num)\n",
        "print('the square root of {0} is {1:0.3f}+{2:0.3f}j'.format(num,num_sqrt.real,num_sqrt.imag))"
      ],
      "metadata": {
        "colab": {
          "base_uri": "https://localhost:8080/"
        },
        "id": "nsChBSSAPG69",
        "outputId": "964f996c-b605-4f89-ee5f-c3edf1820d1f"
      },
      "execution_count": 5,
      "outputs": [
        {
          "output_type": "stream",
          "name": "stdout",
          "text": [
            "the square root of (1+2j) is 1.272+0.786j\n"
          ]
        }
      ]
    },
    {
      "cell_type": "code",
      "source": [
        "a=5\n",
        "b=6\n",
        "c=7\n",
        "s=(a+b+c)/2\n",
        "area=(s*(s-a)*(s-b)*(s-c))**0.5\n",
        "print('the area of the triangle is %0.2f' %area)"
      ],
      "metadata": {
        "colab": {
          "base_uri": "https://localhost:8080/"
        },
        "id": "y3Fh0WP1QQpG",
        "outputId": "19eaa99e-bd86-441f-d4c5-2c9dd5841ccf"
      },
      "execution_count": 8,
      "outputs": [
        {
          "output_type": "stream",
          "name": "stdout",
          "text": [
            "the area of the triangle is 14.70\n"
          ]
        }
      ]
    },
    {
      "cell_type": "code",
      "source": [
        "x=5\n",
        "y=10\n",
        "temp=x\n",
        "x=y\n",
        "y=temp\n",
        "print('the value of x after swapping:{}'.format(x))\n",
        "print('the value of y after swapping:{}'.format(y))"
      ],
      "metadata": {
        "colab": {
          "base_uri": "https://localhost:8080/"
        },
        "id": "HBGDv6RERJ7w",
        "outputId": "2f3960a0-52d6-4c37-cb7d-fce768f635fa"
      },
      "execution_count": 9,
      "outputs": [
        {
          "output_type": "stream",
          "name": "stdout",
          "text": [
            "the value of x after swapping:10\n",
            "the value of y after swapping:5\n"
          ]
        }
      ]
    },
    {
      "cell_type": "code",
      "source": [
        "website=\"apple.com\"\n",
        "print(website)\n",
        "website=\"programiz.com\"\n",
        "print(website)"
      ],
      "metadata": {
        "colab": {
          "base_uri": "https://localhost:8080/"
        },
        "id": "MsRjdVEBRyFd",
        "outputId": "cb10fc03-1a5b-4a2a-a2fe-1e48ce9edb73"
      },
      "execution_count": 10,
      "outputs": [
        {
          "output_type": "stream",
          "name": "stdout",
          "text": [
            "apple.com\n",
            "programiz.com\n"
          ]
        }
      ]
    },
    {
      "cell_type": "code",
      "source": [
        "a=0b1010\n",
        "b=100\n",
        "c=0o310\n",
        "d=0x12c\n",
        "float_1=10.5\n",
        "float_2=1.5e2\n",
        "x=3.14j\n",
        "print(a,b,c,d)\n",
        "print(float_1,float_2)\n",
        "print(x,x.imag,x.real)"
      ],
      "metadata": {
        "colab": {
          "base_uri": "https://localhost:8080/"
        },
        "id": "x6ohzu9HRJ4P",
        "outputId": "7e141f48-2f65-4241-ab79-1c81a0959016"
      },
      "execution_count": 11,
      "outputs": [
        {
          "output_type": "stream",
          "name": "stdout",
          "text": [
            "10 100 200 300\n",
            "10.5 150.0\n",
            "3.14j 3.14 0.0\n"
          ]
        }
      ]
    },
    {
      "cell_type": "code",
      "source": [
        "strings=\"this is python\"\n",
        "char=\"c\"\n",
        "multiline_str=\"\"\"this is a multiline string with more than one line code.\"\"\"\n",
        "unicode=u\"\\u00dcnic\\u00f6de\"\n",
        "raw_str=r\"raw\\n string\"\n",
        "print(strings)\n",
        "print(char)\n",
        "print(multiline_str)\n",
        "print(raw_str)"
      ],
      "metadata": {
        "colab": {
          "base_uri": "https://localhost:8080/"
        },
        "id": "z6ua6hTnTBZd",
        "outputId": "99759cda-8778-4763-d4f4-e31dede4ccb0"
      },
      "execution_count": 14,
      "outputs": [
        {
          "output_type": "stream",
          "name": "stdout",
          "text": [
            "this is python\n",
            "c\n",
            "this is a multiline string with more than one line code.\n",
            "raw\\n string\n"
          ]
        }
      ]
    },
    {
      "cell_type": "code",
      "source": [
        "x=(1==True)\n",
        "y=(1==False)\n",
        "a=True+4\n",
        "b=False+10\n",
        "print(\"x is\",x)\n",
        "print(\"y is\",y)\n",
        "print(\"a:\",a)\n",
        "print(\"b:\",b)"
      ],
      "metadata": {
        "colab": {
          "base_uri": "https://localhost:8080/"
        },
        "id": "G2mE8kxjUcTm",
        "outputId": "0b34cf35-4c25-4615-fef6-713152171dcd"
      },
      "execution_count": 16,
      "outputs": [
        {
          "output_type": "stream",
          "name": "stdout",
          "text": [
            "x is True\n",
            "y is False\n",
            "a: 5\n",
            "b: 10\n"
          ]
        }
      ]
    },
    {
      "cell_type": "code",
      "source": [
        "drink=\"Avaiable\"\n",
        "food=None\n",
        "def menu(x):\n",
        "  if x == drink:\n",
        "    print(drink)\n",
        "  else:\n",
        "    print(food)\n",
        "menu(drink)\n",
        "menu(food)\n"
      ],
      "metadata": {
        "colab": {
          "base_uri": "https://localhost:8080/"
        },
        "id": "TAqdvcycVPyO",
        "outputId": "a2d9e109-3aa0-44ee-dc0a-8e9f638edb7d"
      },
      "execution_count": 18,
      "outputs": [
        {
          "output_type": "stream",
          "name": "stdout",
          "text": [
            "Avaiable\n",
            "None\n"
          ]
        }
      ]
    },
    {
      "cell_type": "code",
      "source": [
        "fruits=[\"apple\",\"mango\",\"orange\"]\n",
        "numbers=(1,2,3)\n",
        "alphabets={'a':'apple','b':'ball','c':'cat'}\n",
        "vowels={'a','e','i','o','u'}\n",
        "print(fruits)\n",
        "print(numbers)\n",
        "print(alphabets)\n",
        "print(vowels)\n"
      ],
      "metadata": {
        "colab": {
          "base_uri": "https://localhost:8080/"
        },
        "id": "1d4wmpoFWIDI",
        "outputId": "18f0985a-55ba-4353-db8a-27a6cdee9b22"
      },
      "execution_count": 19,
      "outputs": [
        {
          "output_type": "stream",
          "name": "stdout",
          "text": [
            "['apple', 'mango', 'orange']\n",
            "(1, 2, 3)\n",
            "{'a': 'apple', 'b': 'ball', 'c': 'cat'}\n",
            "{'a', 'o', 'u', 'e', 'i'}\n"
          ]
        }
      ]
    }
  ]
}